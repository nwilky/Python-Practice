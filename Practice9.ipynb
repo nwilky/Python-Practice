{
  "nbformat": 4,
  "nbformat_minor": 0,
  "metadata": {
    "colab": {
      "name": "Practice9.ipynb",
      "version": "0.3.2",
      "provenance": [],
      "collapsed_sections": [],
      "include_colab_link": true
    },
    "kernelspec": {
      "name": "python3",
      "display_name": "Python 3"
    }
  },
  "cells": [
    {
      "cell_type": "markdown",
      "metadata": {
        "id": "view-in-github",
        "colab_type": "text"
      },
      "source": [
        "<a href=\"https://colab.research.google.com/github/nwilky/Python-Practice/blob/master/Practice9.ipynb\" target=\"_parent\"><img src=\"https://colab.research.google.com/assets/colab-badge.svg\" alt=\"Open In Colab\"/></a>"
      ]
    },
    {
      "metadata": {
        "id": "a4gXQsD0lkz8",
        "colab_type": "code",
        "colab": {
          "base_uri": "https://localhost:8080/",
          "height": 34
        },
        "outputId": "8f656d16-9d12-40df-81d8-ec2dc501e132"
      },
      "cell_type": "code",
      "source": [
        "import random\n",
        "\n",
        "\n",
        "a = random.randint(1, 9)\n",
        "\n",
        "count = 0\n",
        "while guess != \"exit\":\n",
        "  guess = int(input(\"Guess the number between 1 & 9.  Type exit to leave.  \"))\n",
        "  \n",
        "  #if guess == \"exit\":\n",
        "  #  break\n",
        "    \n",
        "  #guess = int(guess)\n",
        "  \n",
        "  if guess == a:\n",
        "    count += 1\n",
        "    print(\"You got it! You had this many guesses: {}.\".format(count))\n",
        "  elif guess < a:\n",
        "    count +=1\n",
        "    print(\"Your guess was too low, try again.\")\n",
        "  elif guess > a:\n",
        "      count += 1\n",
        "      print(\"Your guess was too high, try again.\")\n",
        "if guess == \"exit\":\n",
        "   print(\"Thanks for playing!\")\n",
        "  "
      ],
      "execution_count": 21,
      "outputs": [
        {
          "output_type": "stream",
          "text": [
            "Thanks for playing!\n"
          ],
          "name": "stdout"
        }
      ]
    }
  ]
}