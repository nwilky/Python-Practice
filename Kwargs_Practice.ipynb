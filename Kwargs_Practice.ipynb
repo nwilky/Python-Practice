{
  "nbformat": 4,
  "nbformat_minor": 0,
  "metadata": {
    "colab": {
      "name": "Kwargs Practice.ipynb",
      "version": "0.3.2",
      "provenance": [],
      "include_colab_link": true
    },
    "kernelspec": {
      "name": "python3",
      "display_name": "Python 3"
    }
  },
  "cells": [
    {
      "cell_type": "markdown",
      "metadata": {
        "id": "view-in-github",
        "colab_type": "text"
      },
      "source": [
        "<a href=\"https://colab.research.google.com/github/nwilky/Python-Practice/blob/master/Kwargs_Practice.ipynb\" target=\"_parent\"><img src=\"https://colab.research.google.com/assets/colab-badge.svg\" alt=\"Open In Colab\"/></a>"
      ]
    },
    {
      "metadata": {
        "id": "ERR4dNfsv0nx",
        "colab_type": "code",
        "colab": {
          "base_uri": "https://localhost:8080/",
          "height": 51
        },
        "outputId": "47c03006-0fc4-4a72-e67e-3df52ab064f4"
      },
      "cell_type": "code",
      "source": [
        "def combine_words(word,**kwargs):\n",
        "  if \"prefix\" in kwargs:\n",
        "    return kwargs[\"prefix\"] + word\n",
        "  elif \"suffix\" in kwargs:\n",
        "    return word + kwargs[\"suffix\"]\n",
        "  else:\n",
        "    return word\n",
        "        \n",
        "#print(combine_words(\"child\", prefix=\"man\"))\n",
        "#print(combine_words(\"child\", suffix = \"ish\"))\n",
        "#print(combine_words(\"child\"))\n",
        "\n",
        "\n",
        "# NO TOUCHING! =================================================================\n",
        "def count_sevens(*args):\n",
        "    return args.count(7)\n",
        "\n",
        "nums = [90,1,35,67,89,20,3,1,2,3,4,5,6,9,34,46,57,68,79,12,23,34,55,1,90,54,34,76,8,23,34,45,56,67,78,12,23,34,45,56,67,768,23,4,5,6,7,8,9,12,34,14,15,16,17,11,7,11,8,4,6,2,5,8,7,10,12,13,14,15,7,8,7,7,345,23,34,45,56,67,1,7,3,6,7,2,3,4,5,6,7,8,9,8,7,6,5,4,2,1,2,3,4,5,6,7,8,9,0,9,8,7,8,7,6,5,4,3,2,1,7]\n",
        "# NO TOUCHING! =================================================================\n",
        "\n",
        "# Write your code below:\n",
        "\n",
        "result1 = count_sevens(1,4,7)\n",
        "\n",
        "result2 = count_sevens(*nums)\n",
        "\n",
        "print(result1)\n",
        "print(result2)\n",
        "\n"
      ],
      "execution_count": 13,
      "outputs": [
        {
          "output_type": "stream",
          "text": [
            "1\n",
            "14\n"
          ],
          "name": "stdout"
        }
      ]
    }
  ]
}