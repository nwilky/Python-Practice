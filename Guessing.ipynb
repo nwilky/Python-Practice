{
  "nbformat": 4,
  "nbformat_minor": 0,
  "metadata": {
    "colab": {
      "name": "Guessing.ipynb",
      "version": "0.3.2",
      "provenance": [],
      "include_colab_link": true
    },
    "kernelspec": {
      "name": "python3",
      "display_name": "Python 3"
    }
  },
  "cells": [
    {
      "cell_type": "markdown",
      "metadata": {
        "id": "view-in-github",
        "colab_type": "text"
      },
      "source": [
        "<a href=\"https://colab.research.google.com/github/nwilky/Python-Practice/blob/master/Guessing.ipynb\" target=\"_parent\"><img src=\"https://colab.research.google.com/assets/colab-badge.svg\" alt=\"Open In Colab\"/></a>"
      ]
    },
    {
      "metadata": {
        "id": "Y5hPjs1kLs-l",
        "colab_type": "code",
        "colab": {
          "base_uri": "https://localhost:8080/",
          "height": 109
        },
        "outputId": "daa298ad-7059-419d-aa63-3c5c9b5cacfc"
      },
      "cell_type": "code",
      "source": [
        "import random\n",
        "\n",
        "number = random.randint(1,10)\n",
        "guess = None\n",
        "\n",
        "while True:\n",
        "  guess = int(input(\"Guess the number between 1 and 10. \"))\n",
        "  if guess > number:\n",
        "    print(\"Too high, try again.\")\n",
        "  elif guess < number:\n",
        "    print(\"Too low, try again.\")\n",
        "  elif guess == number:\n",
        "    play_again = input(\"You guessed it! Want to play again? y/n \")\n",
        "    if play_again == \"y\":\n",
        "      number = random.randint(1,10)\n",
        "      guess = None\n",
        "    elif play_again == \"n\":\n",
        "      print(\"Thanks for playing!\")\n",
        "      break\n",
        "      "
      ],
      "execution_count": 14,
      "outputs": [
        {
          "output_type": "stream",
          "text": [
            "Guess the number between 1 and 10. 4\n",
            "Too low, try again.\n",
            "Guess the number between 1 and 10. 8\n",
            "You guessed it! Want to play again? y/n n\n",
            "Thanks for playing!\n"
          ],
          "name": "stdout"
        }
      ]
    }
  ]
}