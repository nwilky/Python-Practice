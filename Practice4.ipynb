{
  "nbformat": 4,
  "nbformat_minor": 0,
  "metadata": {
    "colab": {
      "name": "Practice4.ipynb",
      "version": "0.3.2",
      "provenance": [],
      "collapsed_sections": [],
      "include_colab_link": true
    },
    "kernelspec": {
      "name": "python3",
      "display_name": "Python 3"
    }
  },
  "cells": [
    {
      "cell_type": "markdown",
      "metadata": {
        "id": "view-in-github",
        "colab_type": "text"
      },
      "source": [
        "<a href=\"https://colab.research.google.com/github/nwilky/Python-Practice/blob/master/Practice4.ipynb\" target=\"_parent\"><img src=\"https://colab.research.google.com/assets/colab-badge.svg\" alt=\"Open In Colab\"/></a>"
      ]
    },
    {
      "metadata": {
        "id": "WRfjKo6MSGXZ",
        "colab_type": "code",
        "colab": {
          "base_uri": "https://localhost:8080/",
          "height": 63
        },
        "outputId": "05bb10ab-def4-49c3-9731-0696c010120d"
      },
      "cell_type": "code",
      "source": [
        "#Practice 4\n",
        "number = int(input(\"Please give me a number:  \"))\n",
        "potential_divisors = range(1, number - 1)\n",
        "divisors = []\n",
        "\n",
        "for element in potential_divisors:\n",
        "  if number % element == 0:\n",
        "    divisors.append(element)\n",
        "print(divisors)"
      ],
      "execution_count": 7,
      "outputs": [
        {
          "output_type": "stream",
          "text": [
            "Please give me a number:  12894567\n",
            "[1, 3, 7, 21, 157, 471, 1099, 3297, 3911, 11733, 27377, 82131, 614027, 1842081, 4298189]\n"
          ],
          "name": "stdout"
        }
      ]
    }
  ]
}