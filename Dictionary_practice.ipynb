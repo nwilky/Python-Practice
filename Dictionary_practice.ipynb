{
  "nbformat": 4,
  "nbformat_minor": 0,
  "metadata": {
    "colab": {
      "name": "Dictionary practice.ipynb",
      "version": "0.3.2",
      "provenance": [],
      "include_colab_link": true
    },
    "kernelspec": {
      "name": "python3",
      "display_name": "Python 3"
    }
  },
  "cells": [
    {
      "cell_type": "markdown",
      "metadata": {
        "id": "view-in-github",
        "colab_type": "text"
      },
      "source": [
        "<a href=\"https://colab.research.google.com/github/nwilky/Python-Practice/blob/master/Dictionary_practice.ipynb\" target=\"_parent\"><img src=\"https://colab.research.google.com/assets/colab-badge.svg\" alt=\"Open In Colab\"/></a>"
      ]
    },
    {
      "metadata": {
        "id": "OYysdDYc5y7J",
        "colab_type": "code",
        "colab": {
          "base_uri": "https://localhost:8080/",
          "height": 34
        },
        "outputId": "5936d525-2c86-4794-8cab-177291331c70"
      },
      "cell_type": "code",
      "source": [
        "# This code picks a random food item:\n",
        "from random import choice #DON'T CHANGE!\n",
        "food = choice([\"cheese pizza\", \"quiche\",\"morning bun\",\"gummy bear\",\"tea cake\"]) #DON'T CHANGE!\n",
        "\n",
        "#DON'T CHANGE THIS DICTIONARY EITHER!\n",
        "bakery_stock = {\n",
        "    \"almond croissant\" : 12,\n",
        "    \"toffee cookie\": 3,\n",
        "    \"morning bun\": 1,\n",
        "    \"chocolate chunk cookie\": 9,\n",
        "    \"tea cake\": 25\n",
        "}\n",
        "\n",
        "# YOUR CODE GOES BELOW:\n",
        "if food in bakery_stock.keys():\n",
        "    print(\"{} left\".format(bakery_stock[food]))\n",
        "else:\n",
        "  print(\"We don't make that\")\n",
        "  "
      ],
      "execution_count": 31,
      "outputs": [
        {
          "output_type": "stream",
          "text": [
            "25 left\n"
          ],
          "name": "stdout"
        }
      ]
    }
  ]
}