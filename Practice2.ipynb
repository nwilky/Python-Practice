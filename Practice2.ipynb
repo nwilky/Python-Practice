{
  "nbformat": 4,
  "nbformat_minor": 0,
  "metadata": {
    "colab": {
      "name": "Practice2.ipynb",
      "version": "0.3.2",
      "provenance": [],
      "include_colab_link": true
    },
    "kernelspec": {
      "name": "python3",
      "display_name": "Python 3"
    }
  },
  "cells": [
    {
      "cell_type": "markdown",
      "metadata": {
        "id": "view-in-github",
        "colab_type": "text"
      },
      "source": [
        "<a href=\"https://colab.research.google.com/github/nwilky/Python-Practice/blob/master/Practice2.ipynb\" target=\"_parent\"><img src=\"https://colab.research.google.com/assets/colab-badge.svg\" alt=\"Open In Colab\"/></a>"
      ]
    },
    {
      "metadata": {
        "id": "DCOLfcPCoF-C",
        "colab_type": "code",
        "colab": {
          "base_uri": "https://localhost:8080/",
          "height": 109
        },
        "outputId": "7bcf12be-60c1-4337-8f70-18c2be97c446"
      },
      "cell_type": "code",
      "source": [
        "number = int(input(\"Please enter a whole number.  \"))\n",
        "\n",
        "if number % 2 == 0 and number % 4 == 0:\n",
        "  print(\"This number is even and is a multiple of 4.\")\n",
        "elif number % 2 == 0:\n",
        "  print(\"This number is even.\")\n",
        "elif number % 2 != 0:\n",
        "  print(\"This number is odd.\")\n",
        "  \n",
        "num = int(input(\"Please give me a new number.  \"))\n",
        "check = int(input(\"One more time please.  \"))\n",
        "\n",
        "if check % num == 0:\n",
        "  print(\"{} divides evenly into {}.\".format(num, check))\n",
        "elif check % num != 0:\n",
        "  print(\"{} does not divide evenly into {}.\".format(num, check))\n",
        "\n"
      ],
      "execution_count": 13,
      "outputs": [
        {
          "output_type": "stream",
          "text": [
            "Please enter a whole number.  99\n",
            "This number is odd.\n",
            "Please give me a new number.  12\n",
            "One more time please.  2\n",
            "12 does not divide evenly into 2.\n"
          ],
          "name": "stdout"
        }
      ]
    }
  ]
}