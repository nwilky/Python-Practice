{
  "nbformat": 4,
  "nbformat_minor": 0,
  "metadata": {
    "colab": {
      "name": "Built-in Functions Practice.ipynb",
      "version": "0.3.2",
      "provenance": [],
      "include_colab_link": true
    },
    "kernelspec": {
      "name": "python3",
      "display_name": "Python 3"
    }
  },
  "cells": [
    {
      "cell_type": "markdown",
      "metadata": {
        "id": "view-in-github",
        "colab_type": "text"
      },
      "source": [
        "<a href=\"https://colab.research.google.com/github/nwilky/Python-Practice/blob/master/Built_in_Functions_Practice.ipynb\" target=\"_parent\"><img src=\"https://colab.research.google.com/assets/colab-badge.svg\" alt=\"Open In Colab\"/></a>"
      ]
    },
    {
      "metadata": {
        "id": "GsBmx2iFDWIk",
        "colab_type": "code",
        "colab": {
          "base_uri": "https://localhost:8080/",
          "height": 51
        },
        "outputId": "748332e1-2a4e-40c1-f330-c570412de435"
      },
      "cell_type": "code",
      "source": [
        "#Max and Min exercise\n",
        "import random\n",
        "\n",
        "def extremes(nums):\n",
        "    return(min(nums), max(nums))\n",
        "\n",
        "nums = random.sample(range(1,100), 10)\n",
        "nums.sort()\n",
        "print(nums)\n",
        "extremes(nums)"
      ],
      "execution_count": 1,
      "outputs": [
        {
          "output_type": "stream",
          "text": [
            "[13, 20, 38, 39, 50, 64, 69, 79, 87, 99]\n"
          ],
          "name": "stdout"
        },
        {
          "output_type": "execute_result",
          "data": {
            "text/plain": [
              "(13, 99)"
            ]
          },
          "metadata": {
            "tags": []
          },
          "execution_count": 1
        }
      ]
    },
    {
      "metadata": {
        "id": "fbo436WDDXIs",
        "colab_type": "code",
        "colab": {
          "base_uri": "https://localhost:8080/",
          "height": 34
        },
        "outputId": "90162bbe-544f-4c77-c6e9-b00f6329b12d"
      },
      "cell_type": "code",
      "source": [
        "#Abs exercise\n",
        "def max_magnitude(arg):\n",
        "  newlist = []\n",
        "  for x in arg:\n",
        "    newlist.append(abs(x))\n",
        "  return max(newlist)\n",
        "\n",
        "arg = [-5, -1, -89]\n",
        "print(max_magnitude(arg))\n",
        "\n",
        "#def max_mag(nums):\n",
        "#  return max(abs(num) for num in nums)\n",
        "\n",
        "nums = [-5, -1, -89]\n",
        "\n",
        "#print(max_mag(nums))\n",
        "\n"
      ],
      "execution_count": 29,
      "outputs": [
        {
          "output_type": "stream",
          "text": [
            "89\n"
          ],
          "name": "stdout"
        }
      ]
    },
    {
      "metadata": {
        "id": "2ZdopW2nEhFs",
        "colab_type": "code",
        "colab": {
          "base_uri": "https://localhost:8080/",
          "height": 34
        },
        "outputId": "9d0a0f50-02bc-445c-9744-1ca891e4ff8a"
      },
      "cell_type": "code",
      "source": [
        "#Sum exercise\n",
        "\n",
        "def sum_even_values(*args):\n",
        "  evenlist = []\n",
        "  for x in nums:\n",
        "    if x % 2 == 0:\n",
        "      evenlist.append(x)\n",
        "  return sum(evenlist)\n",
        "    \n",
        "nums = [1,2,3,4,5,6]\n",
        "sum_even_values(nums)\n",
        "\n",
        "#def sum_even_values(*args):\n",
        "#    return sum(arg for arg in args if arg % 2 == 0)\n",
        "      "
      ],
      "execution_count": 28,
      "outputs": [
        {
          "output_type": "execute_result",
          "data": {
            "text/plain": [
              "12"
            ]
          },
          "metadata": {
            "tags": []
          },
          "execution_count": 28
        }
      ]
    },
    {
      "metadata": {
        "id": "8w3aDz3_GksZ",
        "colab_type": "code",
        "colab": {
          "base_uri": "https://localhost:8080/",
          "height": 34
        },
        "outputId": "64df561f-ba25-441c-b9ab-798387e137ec"
      },
      "cell_type": "code",
      "source": [
        "#More Sum exercise\n",
        "\n",
        "def sum_floats(*args):\n",
        "  return sum(x for x in args if isinstance(x, float))\n",
        "\n",
        "sum_floats(1.5, 2.4, 'awesome', [], 1)\n",
        "sum_floats(1,2,3,4,5)\n",
        "\n",
        "#def sum_floats(*args):\n",
        "#    return sum(arg for arg in args if type(arg) == float)"
      ],
      "execution_count": 34,
      "outputs": [
        {
          "output_type": "execute_result",
          "data": {
            "text/plain": [
              "0"
            ]
          },
          "metadata": {
            "tags": []
          },
          "execution_count": 34
        }
      ]
    },
    {
      "metadata": {
        "id": "G2cp1or0JfEJ",
        "colab_type": "code",
        "colab": {
          "base_uri": "https://localhost:8080/",
          "height": 51
        },
        "outputId": "df201372-28fa-41c0-be7d-f5a1757d8627"
      },
      "cell_type": "code",
      "source": [
        "#Zip exercise\n",
        "\n",
        "mids = [90, 98, 87]\n",
        "finals = [92, 94, 82]\n",
        "students = [\"bob\", \"dan\", \"joe\"]\n",
        "\n",
        "final_grade = [max(pair) for pair in zip(mids, finals)]\n",
        "print(final_grade)\n",
        "fin_grade = dict(zip(students, final_grade))\n",
        "print(fin_grade)"
      ],
      "execution_count": 41,
      "outputs": [
        {
          "output_type": "stream",
          "text": [
            "[92, 98, 87]\n",
            "{'bob': 92, 'dan': 98, 'joe': 87}\n"
          ],
          "name": "stdout"
        }
      ]
    },
    {
      "metadata": {
        "id": "I8pRbkrJMSJS",
        "colab_type": "code",
        "colab": {
          "base_uri": "https://localhost:8080/",
          "height": 34
        },
        "outputId": "b5387240-ac15-47ad-f04c-0cfc7872b5fc"
      },
      "cell_type": "code",
      "source": [
        "#Complex Zip exercise\n",
        "\n",
        "def interleave(arg1,arg2):\n",
        "  letterlist = list(zip(arg1,arg2))\n",
        "  [\"\".join(letter) for letter in letterlist]\n",
        "  final_word = \"\".join([\"\".join(letter) for letter in letterlist])\n",
        "  return final_word\n",
        "  \n",
        "  \n",
        "#Both functions do the exact same thing.  You made the long one, then condensed it down.\n",
        "def interleave_1_line(arg1,arg2):\n",
        "  return \"\".join([\"\".join(letter) for letter in zip(arg1,arg2)])\n",
        "  \n",
        "word1 = \"lzr\"\n",
        "word2 = \"iad\"\n",
        "\n",
        "interleave(word1,word2)"
      ],
      "execution_count": 82,
      "outputs": [
        {
          "output_type": "execute_result",
          "data": {
            "text/plain": [
              "'lizard'"
            ]
          },
          "metadata": {
            "tags": []
          },
          "execution_count": 82
        }
      ]
    },
    {
      "metadata": {
        "id": "oqmROv8NRBzu",
        "colab_type": "code",
        "colab": {
          "base_uri": "https://localhost:8080/",
          "height": 85
        },
        "outputId": "e43e0c95-f31e-4348-b6c7-e64903e2376a"
      },
      "cell_type": "code",
      "source": [
        "def triple_and_filter_long(nums):\n",
        "  newlist = []\n",
        "  for x in nums:\n",
        "    if x % 4 == 0:\n",
        "      newlist.append(x*3)\n",
        "  return newlist\n",
        "\n",
        "def triple_and_filter(nums):\n",
        "  return [x*3 for x in nums if x % 4 == 0 ]\n",
        "  \n",
        "print(triple_and_filter_long([1,2,3,4]))\n",
        "print(triple_and_filter_long([6,8,10,12,16,20]))\n",
        "\n",
        "print(triple_and_filter([1,2,3,4]))\n",
        "print(triple_and_filter([6,8,10,12,16,20]))\n",
        "\n"
      ],
      "execution_count": 92,
      "outputs": [
        {
          "output_type": "stream",
          "text": [
            "[12]\n",
            "[24, 36, 48, 60]\n",
            "[12]\n",
            "[24, 36, 48, 60]\n"
          ],
          "name": "stdout"
        }
      ]
    },
    {
      "metadata": {
        "id": "Lk_QgenqSlu_",
        "colab_type": "code",
        "colab": {
          "base_uri": "https://localhost:8080/",
          "height": 51
        },
        "outputId": "d41e0307-d735-4bcf-a5d1-e3c18fb2accf"
      },
      "cell_type": "code",
      "source": [
        "'''\n",
        "names = [{'first': 'Elie', 'last': 'Schoppik'}, {'first': 'Colt', 'last': 'Steele'}]\n",
        "extract_full_name(names) # ['Elie Schoppik', 'Colt Steele']\n",
        "'''\n",
        "\n",
        "def extract_full_name_long(arg):\n",
        "  newlist = []\n",
        "  for x in arg:\n",
        "    newlist.append(\" \".join(x.values()))\n",
        "  return(newlist)  \n",
        "\n",
        "names = [{'first': 'Elie', 'last': 'Schoppik'}, {'first': 'Colt', 'last': 'Steele'}]\n",
        "print(extract_full_name_long(names))\n",
        "\n",
        "def extract_full_name(arg):\n",
        "  return [\" \".join(x.values()) for x in arg]\n",
        "\n",
        "names = [{'first': 'Elie', 'last': 'Schoppik'}, {'first': 'Colt', 'last': 'Steele'}, {\"first\": \"Nick\", \"last\": \"Wilky\"}]\n",
        "print(extract_full_name(names))\n",
        "\n",
        "#Colt's solution\n",
        "#def extract_full_name(arg):\n",
        "#    return list(map(lambda val: \"{} {}\".format(val['first'], val['last']), arg))\n"
      ],
      "execution_count": 142,
      "outputs": [
        {
          "output_type": "stream",
          "text": [
            "['Elie Schoppik', 'Colt Steele']\n",
            "['Elie Schoppik', 'Colt Steele', 'Nick Wilky']\n"
          ],
          "name": "stdout"
        }
      ]
    }
  ]
}