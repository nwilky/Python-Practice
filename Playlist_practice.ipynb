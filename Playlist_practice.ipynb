{
  "nbformat": 4,
  "nbformat_minor": 0,
  "metadata": {
    "colab": {
      "name": "Playlist practice.ipynb",
      "version": "0.3.2",
      "provenance": [],
      "include_colab_link": true
    },
    "kernelspec": {
      "name": "python3",
      "display_name": "Python 3"
    }
  },
  "cells": [
    {
      "cell_type": "markdown",
      "metadata": {
        "id": "view-in-github",
        "colab_type": "text"
      },
      "source": [
        "<a href=\"https://colab.research.google.com/github/nwilky/Python-Practice/blob/master/Playlist_practice.ipynb\" target=\"_parent\"><img src=\"https://colab.research.google.com/assets/colab-badge.svg\" alt=\"Open In Colab\"/></a>"
      ]
    },
    {
      "metadata": {
        "id": "KcE1pXASEW3g",
        "colab_type": "code",
        "colab": {
          "base_uri": "https://localhost:8080/",
          "height": 85
        },
        "outputId": "21571f1f-94bf-4f1b-a333-4b999f65a216"
      },
      "cell_type": "code",
      "source": [
        "playlist = {\"title\": \"Practice Playlist\",\n",
        "            \"author\": \"Nick\",\n",
        "            \"songs\": [\n",
        "                {\"title\": \"song1\", \"artist\": [\"mister\"], \"duration\": 3.5},\n",
        "                {\"title\": \"song2\", \"artist\": [\"kiki\", \"mister\"], \"duration\": 4.5},\n",
        "                {\"title\": \"song3\", \"artist\": [\"kiki\"], \"duration\": 4.0},\n",
        "            ]\n",
        "}\n",
        "\n",
        "total_duration = 0\n",
        "\n",
        "for song in playlist[\"songs\"]:\n",
        "  print(song[\"title\"])\n",
        "  total_duration += song[\"duration\"]\n",
        "print(total_duration)"
      ],
      "execution_count": 11,
      "outputs": [
        {
          "output_type": "stream",
          "text": [
            "song1\n",
            "song2\n",
            "song3\n",
            "12.0\n"
          ],
          "name": "stdout"
        }
      ]
    }
  ]
}