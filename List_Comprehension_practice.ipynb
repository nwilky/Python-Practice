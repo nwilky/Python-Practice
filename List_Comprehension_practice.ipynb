{
  "nbformat": 4,
  "nbformat_minor": 0,
  "metadata": {
    "colab": {
      "name": "List Comprehension practice.ipynb",
      "version": "0.3.2",
      "provenance": [],
      "include_colab_link": true
    },
    "kernelspec": {
      "name": "python3",
      "display_name": "Python 3"
    }
  },
  "cells": [
    {
      "cell_type": "markdown",
      "metadata": {
        "id": "view-in-github",
        "colab_type": "text"
      },
      "source": [
        "<a href=\"https://colab.research.google.com/github/nwilky/Python-Practice/blob/master/List_Comprehension_practice.ipynb\" target=\"_parent\"><img src=\"https://colab.research.google.com/assets/colab-badge.svg\" alt=\"Open In Colab\"/></a>"
      ]
    },
    {
      "metadata": {
        "id": "GXiIs2pRwJXe",
        "colab_type": "code",
        "colab": {
          "base_uri": "https://localhost:8080/",
          "height": 127
        },
        "outputId": "c02ebf96-c0cf-4eb4-c3c0-1c23eab7eb20"
      },
      "cell_type": "code",
      "source": [
        "answer = [letter for letter in \"amazing\" if letter not in \"aeiou\"]\n",
        "\n",
        "answer2 = [name[::-1].lower() for name in [\"Elie\", \"Tim\", \"Matt\"]]\n",
        "\n",
        "answer3 = [[num for num in range(1,4)] for val in range(1,4)]\n",
        "\n",
        "answer4 = [[\"o\" if num % 2 == 0 else \"s\" for num in range(1,4)] for val in range(1,4)]\n",
        "\n",
        "answer5 = [[num for num in range(0,10)] for val in range(0,10)]\n",
        "\n",
        "print(answer)\n",
        "print(answer2)\n",
        "print(answer3)\n",
        "print(answer4)\n",
        "print(answer5)"
      ],
      "execution_count": 36,
      "outputs": [
        {
          "output_type": "stream",
          "text": [
            "['m', 'z', 'n', 'g']\n",
            "['eile', 'mit', 'ttam']\n",
            "[[1, 2, 3], [1, 2, 3], [1, 2, 3]]\n",
            "[['s', 'o', 's'], ['s', 'o', 's'], ['s', 'o', 's']]\n",
            "[[0, 1, 2, 3, 4, 5, 6, 7, 8, 9], [0, 1, 2, 3, 4, 5, 6, 7, 8, 9], [0, 1, 2, 3, 4, 5, 6, 7, 8, 9], [0, 1, 2, 3, 4, 5, 6, 7, 8, 9], [0, 1, 2, 3, 4, 5, 6, 7, 8, 9], [0, 1, 2, 3, 4, 5, 6, 7, 8, 9], [0, 1, 2, 3, 4, 5, 6, 7, 8, 9], [0, 1, 2, 3, 4, 5, 6, 7, 8, 9], [0, 1, 2, 3, 4, 5, 6, 7, 8, 9], [0, 1, 2, 3, 4, 5, 6, 7, 8, 9]]\n"
          ],
          "name": "stdout"
        }
      ]
    }
  ]
}