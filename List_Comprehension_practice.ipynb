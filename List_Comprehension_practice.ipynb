{
  "nbformat": 4,
  "nbformat_minor": 0,
  "metadata": {
    "colab": {
      "name": "List Comprehension practice.ipynb",
      "version": "0.3.2",
      "provenance": [],
      "include_colab_link": true
    },
    "kernelspec": {
      "name": "python3",
      "display_name": "Python 3"
    }
  },
  "cells": [
    {
      "cell_type": "markdown",
      "metadata": {
        "id": "view-in-github",
        "colab_type": "text"
      },
      "source": [
        "<a href=\"https://colab.research.google.com/github/nwilky/Python-Practice/blob/master/List_Comprehension_practice.ipynb\" target=\"_parent\"><img src=\"https://colab.research.google.com/assets/colab-badge.svg\" alt=\"Open In Colab\"/></a>"
      ]
    },
    {
      "metadata": {
        "id": "9Ecyp5PJf5N3",
        "colab_type": "code",
        "colab": {
          "base_uri": "https://localhost:8080/",
          "height": 170
        },
        "outputId": "a727ec6f-3aae-4bdd-a08e-423a491a90e4"
      },
      "cell_type": "code",
      "source": [
        "nums = [1,2,3]\n",
        "doubled = []\n",
        "\n",
        "for element in nums:\n",
        "  doubled.append(element*2)\n",
        "print(doubled)\n",
        "  \n",
        "print([element*2 for element in nums])\n",
        "\n",
        "names = [\"nick\", \"jillian\", \"mister\", \"kiki\"]\n",
        "\n",
        "capitalized = [name[0].upper() for name in names]\n",
        "\n",
        "print(capitalized)\n",
        "\n",
        "print([val for val in [1,2,3,4] if val in [3,4,5,6]])\n",
        "\n",
        "print([num for num in [1,2,3,4] if num in [3,4,5,6]])\n",
        "\n",
        "print([name.lower()[::-1] for name in [\"Elie\", \"Tim\", \"Matt\"]])\n",
        "\n",
        "print([val for val in range(1,100) if val %12 == 0])\n",
        "\n",
        "print([char for char in \"amazing\" if char not in \"aeiou\"])\n",
        "\n",
        "print([[num for num in range(0,3)] for num in range(0,3)])"
      ],
      "execution_count": 27,
      "outputs": [
        {
          "output_type": "stream",
          "text": [
            "[2, 4, 6]\n",
            "[2, 4, 6]\n",
            "['N', 'J', 'M', 'K']\n",
            "[3, 4]\n",
            "[3, 4]\n",
            "['eile', 'mit', 'ttam']\n",
            "[12, 24, 36, 48, 60, 72, 84, 96]\n",
            "['m', 'z', 'n', 'g']\n",
            "[[0, 1, 2], [0, 1, 2], [0, 1, 2]]\n"
          ],
          "name": "stdout"
        }
      ]
    }
  ]
}