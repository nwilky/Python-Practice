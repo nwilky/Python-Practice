{
  "nbformat": 4,
  "nbformat_minor": 0,
  "metadata": {
    "colab": {
      "name": "Set Comprehension practice.ipynb",
      "version": "0.3.2",
      "provenance": [],
      "include_colab_link": true
    },
    "kernelspec": {
      "name": "python3",
      "display_name": "Python 3"
    }
  },
  "cells": [
    {
      "cell_type": "markdown",
      "metadata": {
        "id": "view-in-github",
        "colab_type": "text"
      },
      "source": [
        "<a href=\"https://colab.research.google.com/github/nwilky/Python-Practice/blob/master/Set_Comprehension_practice.ipynb\" target=\"_parent\"><img src=\"https://colab.research.google.com/assets/colab-badge.svg\" alt=\"Open In Colab\"/></a>"
      ]
    },
    {
      "metadata": {
        "id": "Vh_x1VWW26YR",
        "colab_type": "code",
        "colab": {
          "base_uri": "https://localhost:8080/",
          "height": 102
        },
        "outputId": "e017e413-f7bb-4a13-b764-040cda1af719"
      },
      "cell_type": "code",
      "source": [
        "s = {y**2 for y in range(10)}\n",
        "print(s)\n",
        "\n",
        "d = {x:x**2 for x in range(10)}\n",
        "print(d)\n",
        "\n",
        "h = {char.upper() for char in \"hello\"}\n",
        "print(h)\n",
        "\n",
        "\n",
        "word = \"pancake syrup\"\n",
        "vowel = {letter for letter in word if letter in \"aeiou\"}\n",
        "print(vowel)\n",
        "\n",
        "tree = \"Sequoia\"\n",
        "len({letter for letter in tree if letter in \"aeiou\"}) == 5"
      ],
      "execution_count": 21,
      "outputs": [
        {
          "output_type": "stream",
          "text": [
            "{0, 1, 64, 4, 36, 9, 16, 49, 81, 25}\n",
            "{0: 0, 1: 1, 2: 4, 3: 9, 4: 16, 5: 25, 6: 36, 7: 49, 8: 64, 9: 81}\n",
            "{'E', 'O', 'L', 'H'}\n",
            "{'u', 'e', 'a'}\n"
          ],
          "name": "stdout"
        },
        {
          "output_type": "execute_result",
          "data": {
            "text/plain": [
              "True"
            ]
          },
          "metadata": {
            "tags": []
          },
          "execution_count": 21
        }
      ]
    }
  ]
}