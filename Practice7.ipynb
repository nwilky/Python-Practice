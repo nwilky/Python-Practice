{
  "nbformat": 4,
  "nbformat_minor": 0,
  "metadata": {
    "colab": {
      "name": "Practice7.ipynb",
      "version": "0.3.2",
      "provenance": [],
      "collapsed_sections": [],
      "include_colab_link": true
    },
    "kernelspec": {
      "name": "python3",
      "display_name": "Python 3"
    }
  },
  "cells": [
    {
      "cell_type": "markdown",
      "metadata": {
        "id": "view-in-github",
        "colab_type": "text"
      },
      "source": [
        "<a href=\"https://colab.research.google.com/github/nwilky/Python-Practice/blob/master/Practice7.ipynb\" target=\"_parent\"><img src=\"https://colab.research.google.com/assets/colab-badge.svg\" alt=\"Open In Colab\"/></a>"
      ]
    },
    {
      "metadata": {
        "id": "NHhUWAtQZpmL",
        "colab_type": "code",
        "colab": {
          "base_uri": "https://localhost:8080/",
          "height": 51
        },
        "outputId": "602d68d8-7095-492d-e668-9771d1dd3c74"
      },
      "cell_type": "code",
      "source": [
        "#Practice 7\n",
        "\n",
        "a = [1, 4, 9, 16, 25, 36, 49, 64, 81, 100]\n",
        "even_list = []\n",
        "odd_list = []\n",
        "\n",
        "for num in a:\n",
        "  if num % 2 == 0:\n",
        "    even_list.append(num)\n",
        "  else:\n",
        "    odd_list.append(num)\n",
        "    \n",
        "print(\"These are the even numbers: \",even_list)   \n",
        "print(\"These are the odd  numbers: \",odd_list)"
      ],
      "execution_count": 3,
      "outputs": [
        {
          "output_type": "stream",
          "text": [
            "These are the even numbers:  [4, 16, 36, 64, 100]\n",
            "These are the odd  numbers:  [1, 9, 25, 49, 81]\n"
          ],
          "name": "stdout"
        }
      ]
    }
  ]
}