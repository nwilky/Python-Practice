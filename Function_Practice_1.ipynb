{
  "nbformat": 4,
  "nbformat_minor": 0,
  "metadata": {
    "colab": {
      "name": "Function Practice 1.ipynb",
      "version": "0.3.2",
      "provenance": [],
      "include_colab_link": true
    },
    "kernelspec": {
      "name": "python3",
      "display_name": "Python 3"
    }
  },
  "cells": [
    {
      "cell_type": "markdown",
      "metadata": {
        "id": "view-in-github",
        "colab_type": "text"
      },
      "source": [
        "<a href=\"https://colab.research.google.com/github/nwilky/Python-Practice/blob/master/Function_Practice_1.ipynb\" target=\"_parent\"><img src=\"https://colab.research.google.com/assets/colab-badge.svg\" alt=\"Open In Colab\"/></a>"
      ]
    },
    {
      "metadata": {
        "id": "xw-auK43VLBT",
        "colab_type": "code",
        "colab": {}
      },
      "cell_type": "code",
      "source": [
        "def return_day(num):\n",
        "    days = {1: \"Sunday\", 2: \"Monday\", 3: \"Tuesday\", 4: \"Wednesday\", 5: \"Thursday\", 6: \"Friday\", 7: \"Saturday\"}\n",
        "    if num >= 1 and num <= 7:\n",
        "        day = days.get(num)\n",
        "        print(day)\n",
        "    else:\n",
        "        day = None\n",
        "        print(day)\n",
        "        \n",
        "#return_day(1)\n",
        "#return_day(44)\n",
        "\n",
        "\n",
        "def last_element(arg):\n",
        "  if arg == []:\n",
        "    return None\n",
        "  print(arg.pop())\n",
        "  \n",
        "#last_element([1,2,3])  \n",
        "#last_element([])\n",
        "\n",
        "\n",
        "'''\n",
        "number_compare(1,1) # \"Numbers are equal\"\n",
        "number_compare(1,0) # \"First is greater\"\n",
        "number_compare(2,4) # \"Second is greater\"\n",
        "'''\n",
        "\n",
        "def number_compare(a,b):\n",
        "  if a > b:\n",
        "    return \"First is greater\"\n",
        "  elif b > a:\n",
        "    return \"Second is greater\"\n",
        "  return \"Numbers are equal\"\n",
        "\n",
        "\n",
        "'''\n",
        "single_letter_count(\"Hello World\", \"h\") # 1\n",
        "single_letter_count(\"Hello World\", \"z\") # 0\n",
        "single_letter_count(\"HelLo World\", \"l\") # 3\n",
        "'''\n",
        "\n",
        "def single_letter_count(word, letter):\n",
        "  word = word.lower()\n",
        "  letter = letter.lower()\n",
        "  print(word.count(letter))  \n",
        "  \n",
        "#single_letter_count(\"heLLo\",\"l\")  \n",
        "#single_letter_count(\"hello\", \"z\")\n",
        "\n",
        "    \n",
        "    \n",
        "    \n",
        "\n",
        "\n"
      ],
      "execution_count": 0,
      "outputs": []
    }
  ]
}