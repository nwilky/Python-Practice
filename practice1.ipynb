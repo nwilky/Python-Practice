{
  "nbformat": 4,
  "nbformat_minor": 0,
  "metadata": {
    "colab": {
      "name": "practice1.ipynb",
      "version": "0.3.2",
      "provenance": [],
      "collapsed_sections": [],
      "include_colab_link": true
    },
    "kernelspec": {
      "name": "python3",
      "display_name": "Python 3"
    }
  },
  "cells": [
    {
      "cell_type": "markdown",
      "metadata": {
        "id": "view-in-github",
        "colab_type": "text"
      },
      "source": [
        "<a href=\"https://colab.research.google.com/github/nwilky/Python-Practice/blob/master/practice1.ipynb\" target=\"_parent\"><img src=\"https://colab.research.google.com/assets/colab-badge.svg\" alt=\"Open In Colab\"/></a>"
      ]
    },
    {
      "metadata": {
        "id": "bbB0QjCEGb5r",
        "colab_type": "code",
        "outputId": "9da72d89-81f0-4abb-c612-c9dd238aec1b",
        "colab": {
          "base_uri": "https://localhost:8080/",
          "height": 109
        }
      },
      "cell_type": "code",
      "source": [
        "name = input(\"What is your name?  \")\n",
        "age = int(input(\"How old are you?  \"))\n",
        "\n",
        "turn_100 = (100 - age) + 2019\n",
        "\n",
        "print (\"{}, you will turn 100 in the year {}.\".format(name, turn_100))\n",
        "\n",
        "number = int(input(\"Choose a number between 1 & 10.  \"))\n",
        "\n",
        "try:\n",
        "  if number < 1 or number > 10:\n",
        "    raise ValueError\n",
        "except ValueError:\n",
        "      print(\"Please choose another number.\")\n",
        "      number = int(input(\"Choose a number between 1 & 10.  \"))\n",
        "      print(\"Cat\" * number)\n",
        "else:\n",
        "  print(\"Cat \" * number)\n"
      ],
      "execution_count": 22,
      "outputs": [
        {
          "output_type": "stream",
          "text": [
            "What is your name?  nick\n",
            "How old are you?  55\n",
            "nick, you will turn 100 in the year 2064.\n",
            "Choose a number between 1 & 10.  4\n",
            "Cat Cat Cat Cat \n"
          ],
          "name": "stdout"
        }
      ]
    }
  ]
}