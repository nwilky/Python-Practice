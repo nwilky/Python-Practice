{
  "nbformat": 4,
  "nbformat_minor": 0,
  "metadata": {
    "colab": {
      "name": "Deck of Cards Exercise.ipynb",
      "version": "0.3.2",
      "provenance": [],
      "include_colab_link": true
    },
    "kernelspec": {
      "name": "python3",
      "display_name": "Python 3"
    }
  },
  "cells": [
    {
      "cell_type": "markdown",
      "metadata": {
        "id": "view-in-github",
        "colab_type": "text"
      },
      "source": [
        "<a href=\"https://colab.research.google.com/github/nwilky/Python-Practice/blob/master/Deck_of_Cards_Exercise.ipynb\" target=\"_parent\"><img src=\"https://colab.research.google.com/assets/colab-badge.svg\" alt=\"Open In Colab\"/></a>"
      ]
    },
    {
      "metadata": {
        "id": "UctCutl3EA3Y",
        "colab_type": "code",
        "colab": {
          "base_uri": "https://localhost:8080/",
          "height": 51
        },
        "outputId": "e834f49b-1181-4d7d-fb00-9d67d641459f"
      },
      "cell_type": "code",
      "source": [
        "from random import shuffle\n",
        "\n",
        "class Card:\n",
        "  def __init__(self, value, suit):\n",
        "    self.value = value\n",
        "    self.suit = suit\n",
        "    \n",
        "  def __repr__(self):\n",
        "    return \"{} of {}\".format(self.value, self.suit)\n",
        "  \n",
        "    \n",
        "class Deck:\n",
        "  def __init__(self):\n",
        "    suits = [\"Hearts\", \"Diamonds\", \"Clubs\", \"Spades\"]\n",
        "    values = [\"A\", \"2\", \"3\", \"4\", \"5\", \"6\", \"7\", \"8\", \"9\", \"10\", \"J\", \"Q\", \"K\"]\n",
        "    self.cards = [Card(value, suit) for suit in suits for value in values]\n",
        "    \n",
        "  def __repr__(self):\n",
        "    return \"Deck of {} cards\".format(self.count())  \n",
        "    \n",
        "  def count(self):\n",
        "    return len(self.cards)\n",
        "  \n",
        "  def shuffle(self):\n",
        "    if self.count() < 52:\n",
        "      raise ValueError(\"Only full decks can be shuffled\")\n",
        "    shuffle(self.cards)\n",
        "    return self\n",
        "    \n",
        "  def _deal(self, num):\n",
        "    count = self.count()\n",
        "    actual = min([count, num])\n",
        "    if count == 0:\n",
        "      raise ValueError(\"All cards have been dealt\")\n",
        "    cards = self.cards[-actual:]   \n",
        "    self.cards = self.cards[:-actual]\n",
        "    return cards\n",
        "  \n",
        "  def deal_card(self):\n",
        "    return self._deal(1)[0]\n",
        "  \n",
        "  def deal_hand(self, hand_size):\n",
        "    return self._deal(hand_size)\n",
        "     \n",
        "d = Deck()\n",
        "d.shuffle()\n",
        "hand1 = d.deal_hand(5)\n",
        "print(hand1)\n",
        "hand2 = d.deal_hand(5)\n",
        "print(hand2)"
      ],
      "execution_count": 85,
      "outputs": [
        {
          "output_type": "stream",
          "text": [
            "[8 of Diamonds, 5 of Diamonds, Q of Hearts, K of Clubs, 4 of Hearts]\n",
            "[6 of Diamonds, 10 of Hearts, 9 of Hearts, 10 of Diamonds, 7 of Hearts]\n"
          ],
          "name": "stdout"
        }
      ]
    }
  ]
}