{
  "nbformat": 4,
  "nbformat_minor": 0,
  "metadata": {
    "colab": {
      "name": "Practice3.ipynb",
      "version": "0.3.2",
      "provenance": [],
      "collapsed_sections": [],
      "include_colab_link": true
    },
    "kernelspec": {
      "name": "python3",
      "display_name": "Python 3"
    }
  },
  "cells": [
    {
      "cell_type": "markdown",
      "metadata": {
        "id": "view-in-github",
        "colab_type": "text"
      },
      "source": [
        "<a href=\"https://colab.research.google.com/github/nwilky/Python-Practice/blob/master/Practice3.ipynb\" target=\"_parent\"><img src=\"https://colab.research.google.com/assets/colab-badge.svg\" alt=\"Open In Colab\"/></a>"
      ]
    },
    {
      "metadata": {
        "id": "_2SzF1IWrL6M",
        "colab_type": "code",
        "outputId": "d1c8a5db-6c08-4116-c36f-6c6984d224e6",
        "colab": {
          "base_uri": "https://localhost:8080/",
          "height": 34
        }
      },
      "cell_type": "code",
      "source": [
        "a = [1, 1, 2, 3, 5, 8, 13, 21, 34, 55, 89]\n",
        "x = []\n",
        "\n",
        "#Problem 3\n",
        "#for element in a:\n",
        "#  if element < 5:\n",
        "#    print(element)\n",
        "    \n",
        " #Extras #1\n",
        "for number in a:\n",
        "    if number < 5:\n",
        "      x.append(number)\n",
        "print(x)\n",
        "\n",
        "#Extras #3\n",
        "\n",
        "#new_number = int(input(\"Please give me a number.  \"))\n",
        "\n",
        "#for element in a:\n",
        "#  if element < new_number:\n",
        "#    print(element)\n",
        "#print(\"These are the numbers in the list that are smaller than {}.\".format(new_number))\n",
        "    "
      ],
      "execution_count": 17,
      "outputs": [
        {
          "output_type": "stream",
          "text": [
            "[1, 1, 2, 3]\n"
          ],
          "name": "stdout"
        }
      ]
    }
  ]
}