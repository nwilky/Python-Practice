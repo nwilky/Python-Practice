{
  "nbformat": 4,
  "nbformat_minor": 0,
  "metadata": {
    "colab": {
      "name": "Debugging Practice.ipynb",
      "version": "0.3.2",
      "provenance": [],
      "include_colab_link": true
    },
    "kernelspec": {
      "name": "python3",
      "display_name": "Python 3"
    }
  },
  "cells": [
    {
      "cell_type": "markdown",
      "metadata": {
        "id": "view-in-github",
        "colab_type": "text"
      },
      "source": [
        "<a href=\"https://colab.research.google.com/github/nwilky/Python-Practice/blob/master/Debugging_Practice.ipynb\" target=\"_parent\"><img src=\"https://colab.research.google.com/assets/colab-badge.svg\" alt=\"Open In Colab\"/></a>"
      ]
    },
    {
      "metadata": {
        "id": "3AJsG8UURlPW",
        "colab_type": "code",
        "colab": {
          "base_uri": "https://localhost:8080/",
          "height": 34
        },
        "outputId": "11afed95-760a-442f-a50d-b121bfff0b11"
      },
      "cell_type": "code",
      "source": [
        "def divide(num1,num2):\n",
        "    try:\n",
        "      result = num1/num2\n",
        "    except TypeError:\n",
        "      return \"Please provide two integers or floats\"\n",
        "    except ZeroDivisionError:\n",
        "      return \"Please do not divide by zero\"\n",
        "    return result\n",
        "    \n",
        "    \n",
        "divide(6,2.6)\n",
        "#divide([],\"1\")  \n",
        "#divide(1,0) "
      ],
      "execution_count": 29,
      "outputs": [
        {
          "output_type": "execute_result",
          "data": {
            "text/plain": [
              "2.3076923076923075"
            ]
          },
          "metadata": {
            "tags": []
          },
          "execution_count": 29
        }
      ]
    }
  ]
}