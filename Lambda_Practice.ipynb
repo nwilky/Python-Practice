{
  "nbformat": 4,
  "nbformat_minor": 0,
  "metadata": {
    "colab": {
      "name": "Lambda Practice.ipynb",
      "version": "0.3.2",
      "provenance": [],
      "include_colab_link": true
    },
    "kernelspec": {
      "name": "python3",
      "display_name": "Python 3"
    }
  },
  "cells": [
    {
      "cell_type": "markdown",
      "metadata": {
        "id": "view-in-github",
        "colab_type": "text"
      },
      "source": [
        "<a href=\"https://colab.research.google.com/github/nwilky/Python-Practice/blob/master/Lambda_Practice.ipynb\" target=\"_parent\"><img src=\"https://colab.research.google.com/assets/colab-badge.svg\" alt=\"Open In Colab\"/></a>"
      ]
    },
    {
      "metadata": {
        "id": "W-_gctOreE3a",
        "colab_type": "code",
        "colab": {
          "base_uri": "https://localhost:8080/",
          "height": 51
        },
        "outputId": "b8365eab-f13a-404d-d409-1378e38fe9bb"
      },
      "cell_type": "code",
      "source": [
        "#Map exercise\n",
        "def decrement_list(arg):\n",
        "    return list(map(lambda x: x-1, arg))\n",
        "  \n",
        "nums = list(range(1,10))\n",
        "\n",
        "print(nums)\n",
        "decrement_list(nums)"
      ],
      "execution_count": 3,
      "outputs": [
        {
          "output_type": "stream",
          "text": [
            "[1, 2, 3, 4, 5, 6, 7, 8, 9]\n"
          ],
          "name": "stdout"
        },
        {
          "output_type": "execute_result",
          "data": {
            "text/plain": [
              "[0, 1, 2, 3, 4, 5, 6, 7, 8]"
            ]
          },
          "metadata": {
            "tags": []
          },
          "execution_count": 3
        }
      ]
    },
    {
      "metadata": {
        "id": "F_J9ioC7UYWd",
        "colab_type": "code",
        "colab": {
          "base_uri": "https://localhost:8080/",
          "height": 34
        },
        "outputId": "19efa259-ba1e-450d-af8c-7def60e8a65c"
      },
      "cell_type": "code",
      "source": [
        "# Filter exercise\n",
        "\n",
        "def remove_negatives(arg):\n",
        "  removed = list(filter(lambda x: x > -1, arg))\n",
        "  return removed\n",
        "\n",
        "print(remove_negatives([1,2,-4,-6,9,0,-76]))\n"
      ],
      "execution_count": 2,
      "outputs": [
        {
          "output_type": "stream",
          "text": [
            "[1, 2, 9, 0]\n"
          ],
          "name": "stdout"
        }
      ]
    },
    {
      "metadata": {
        "id": "HOb-gnqkb0tZ",
        "colab_type": "code",
        "colab": {
          "base_uri": "https://localhost:8080/",
          "height": 51
        },
        "outputId": "32d7255d-890a-4312-b59d-dadf9b7fe3a3"
      },
      "cell_type": "code",
      "source": [
        "# All exercise\n",
        "\n",
        "def is_all_strings(arg):\n",
        "    return all(type(x) == str for x in arg)\n",
        "  \n",
        "print(is_all_strings([\"a\", \"b\", \"c\"])) \n",
        "print(is_all_strings([\"a\", \"b\", \"c\", 2])) "
      ],
      "execution_count": 10,
      "outputs": [
        {
          "output_type": "stream",
          "text": [
            "True\n",
            "False\n"
          ],
          "name": "stdout"
        }
      ]
    },
    {
      "metadata": {
        "id": "K2X5wa-Dgm13",
        "colab_type": "code",
        "colab": {
          "base_uri": "https://localhost:8080/",
          "height": 34
        },
        "outputId": "29b121ae-2e3c-4ddd-b6aa-2e56e0ff61f2"
      },
      "cell_type": "code",
      "source": [
        "#Max and Min practice\n",
        "names = ['Arya', \"Samson\", \"Dora\", \"Tim\", \"Ollivander\"]\n",
        "\n",
        "# finds the minimum length of a name in names\n",
        "min(len(name) for name in names) # 3\n",
        "\n",
        "# find the longest name itself\n",
        "max(names, key=lambda n:len(n)) #Ollivander\n",
        "\n",
        "songs = [\n",
        "\t{\"title\": \"happy birthday\", \"playcount\": 1},\n",
        "\t{\"title\": \"Survive\", \"playcount\": 6},\n",
        "\t{\"title\": \"YMCA\", \"playcount\": 99},\n",
        "\t{\"title\": \"Toxic\", \"playcount\": 31}\n",
        "]\n",
        "\n",
        "# Finds the song with the lowerest playcount\n",
        "min(songs, key=lambda s: s['playcount']) #{\"title\": \"happy birthday\", \"playcount\": 1}\n",
        "\n",
        "# Finds the title of the most played song\n",
        "max(songs, key=lambda s: s['playcount'])[\"title\"] #YMCA\n",
        "\n",
        "player = {\"name\": \"Mario\", \"lives\": 3}\n",
        "player[\"lives\"]"
      ],
      "execution_count": 17,
      "outputs": [
        {
          "output_type": "execute_result",
          "data": {
            "text/plain": [
              "3"
            ]
          },
          "metadata": {
            "tags": []
          },
          "execution_count": 17
        }
      ]
    }
  ]
}