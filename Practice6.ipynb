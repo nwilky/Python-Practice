{
  "nbformat": 4,
  "nbformat_minor": 0,
  "metadata": {
    "colab": {
      "name": "Practice6.ipynb",
      "version": "0.3.2",
      "provenance": [],
      "collapsed_sections": [],
      "include_colab_link": true
    },
    "kernelspec": {
      "name": "python3",
      "display_name": "Python 3"
    }
  },
  "cells": [
    {
      "cell_type": "markdown",
      "metadata": {
        "id": "view-in-github",
        "colab_type": "text"
      },
      "source": [
        "<a href=\"https://colab.research.google.com/github/nwilky/Python-Practice/blob/master/Practice6.ipynb\" target=\"_parent\"><img src=\"https://colab.research.google.com/assets/colab-badge.svg\" alt=\"Open In Colab\"/></a>"
      ]
    },
    {
      "metadata": {
        "id": "rr2Io2h1WM_9",
        "colab_type": "code",
        "colab": {
          "base_uri": "https://localhost:8080/",
          "height": 63
        },
        "outputId": "67bd5f3e-8abb-4547-b1a1-6ac19d758655"
      },
      "cell_type": "code",
      "source": [
        "#Practice6\n",
        "\n",
        "word = input(\"Please enter a word, I will tell you if it is a palindrome.  \")\n",
        "\n",
        "rvs = word[::-1]\n",
        "\n",
        "if word == rvs:\n",
        "  print(\"This word is a palindrome!!\")\n",
        "else:\n",
        "  print(\"This word is not a palindrome.\")\n",
        "\n",
        "\n"
      ],
      "execution_count": 15,
      "outputs": [
        {
          "output_type": "stream",
          "text": [
            "Please enter a word, I will tell you if it is a palindrome.  racecar\n",
            "This word is a palindrome!!\n"
          ],
          "name": "stdout"
        }
      ]
    }
  ]
}