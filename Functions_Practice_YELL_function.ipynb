{
  "nbformat": 4,
  "nbformat_minor": 0,
  "metadata": {
    "colab": {
      "name": "Functions Practice - YELL function.ipynb",
      "version": "0.3.2",
      "provenance": [],
      "include_colab_link": true
    },
    "kernelspec": {
      "name": "python3",
      "display_name": "Python 3"
    }
  },
  "cells": [
    {
      "cell_type": "markdown",
      "metadata": {
        "id": "view-in-github",
        "colab_type": "text"
      },
      "source": [
        "<a href=\"https://colab.research.google.com/github/nwilky/Python-Practice/blob/master/Functions_Practice_YELL_function.ipynb\" target=\"_parent\"><img src=\"https://colab.research.google.com/assets/colab-badge.svg\" alt=\"Open In Colab\"/></a>"
      ]
    },
    {
      "metadata": {
        "id": "p9IeSKd3ByJG",
        "colab_type": "code",
        "colab": {
          "base_uri": "https://localhost:8080/",
          "height": 34
        },
        "outputId": "35b07324-ef52-4461-d446-b8fd0c7ef926"
      },
      "cell_type": "code",
      "source": [
        "def yell(arg1):\n",
        "  return arg1.upper() + \"!\"\n",
        "\n",
        "yell(\"hello\")\n",
        "\n",
        "\n",
        "#Using the string format() method:\n",
        "\n",
        "def yelling(word):\n",
        "    return \"{}!\".format(word.upper())\n",
        "  \n",
        "yelling(\"hi\")  "
      ],
      "execution_count": 10,
      "outputs": [
        {
          "output_type": "execute_result",
          "data": {
            "text/plain": [
              "'HI!'"
            ]
          },
          "metadata": {
            "tags": []
          },
          "execution_count": 10
        }
      ]
    }
  ]
}