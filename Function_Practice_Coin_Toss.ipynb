{
  "nbformat": 4,
  "nbformat_minor": 0,
  "metadata": {
    "colab": {
      "name": "Function Practice - Coin Toss.ipynb",
      "version": "0.3.2",
      "provenance": [],
      "include_colab_link": true
    },
    "kernelspec": {
      "name": "python3",
      "display_name": "Python 3"
    }
  },
  "cells": [
    {
      "cell_type": "markdown",
      "metadata": {
        "id": "view-in-github",
        "colab_type": "text"
      },
      "source": [
        "<a href=\"https://colab.research.google.com/github/nwilky/Python-Practice/blob/master/Function_Practice_Coin_Toss.ipynb\" target=\"_parent\"><img src=\"https://colab.research.google.com/assets/colab-badge.svg\" alt=\"Open In Colab\"/></a>"
      ]
    },
    {
      "metadata": {
        "id": "SMSkmiaL7s0b",
        "colab_type": "code",
        "colab": {
          "base_uri": "https://localhost:8080/",
          "height": 34
        },
        "outputId": "a7e90bc1-c2e3-450d-f8a9-71ea2499a234"
      },
      "cell_type": "code",
      "source": [
        "from random import random\n",
        "\n",
        "def coin_toss():\n",
        "  result = random()\n",
        "  if result < 0.5:\n",
        "    return \"It's heads!\"\n",
        "  else:\n",
        "    return \"It's tails!\"\n",
        "    \n",
        "print(coin_toss())\n"
      ],
      "execution_count": 12,
      "outputs": [
        {
          "output_type": "stream",
          "text": [
            "It's tails!\n"
          ],
          "name": "stdout"
        }
      ]
    }
  ]
}