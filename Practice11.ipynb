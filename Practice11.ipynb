{
  "nbformat": 4,
  "nbformat_minor": 0,
  "metadata": {
    "colab": {
      "name": "Practice11.ipynb",
      "version": "0.3.2",
      "provenance": [],
      "collapsed_sections": [],
      "include_colab_link": true
    },
    "kernelspec": {
      "name": "python3",
      "display_name": "Python 3"
    }
  },
  "cells": [
    {
      "cell_type": "markdown",
      "metadata": {
        "id": "view-in-github",
        "colab_type": "text"
      },
      "source": [
        "<a href=\"https://colab.research.google.com/github/nwilky/Python-Practice/blob/master/Practice11.ipynb\" target=\"_parent\"><img src=\"https://colab.research.google.com/assets/colab-badge.svg\" alt=\"Open In Colab\"/></a>"
      ]
    },
    {
      "metadata": {
        "id": "ko6ug-PSt_bQ",
        "colab_type": "code",
        "colab": {
          "base_uri": "https://localhost:8080/",
          "height": 63
        },
        "outputId": "7b29284f-9180-4aae-d5b0-beabffa45074"
      },
      "cell_type": "code",
      "source": [
        "#Practice 11\n",
        "\n",
        "number = int(input(\"Please give me a number and I will tell you if it is prime or not:  \"))\n",
        "\n",
        "for element in range(2, number):\n",
        "  if number % element == 0:\n",
        "    print(\"This is not a prime number!\")\n",
        "    break\n",
        "else: \n",
        "  print(\"This is a prime number.\")\n",
        "      \n",
        "  \n"
      ],
      "execution_count": 27,
      "outputs": [
        {
          "output_type": "stream",
          "text": [
            "Please give me a number and I will tell you if it is prime or not:  9\n",
            "This is not a prime number!\n"
          ],
          "name": "stdout"
        }
      ]
    }
  ]
}