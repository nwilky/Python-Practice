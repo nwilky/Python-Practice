{
  "nbformat": 4,
  "nbformat_minor": 0,
  "metadata": {
    "colab": {
      "name": "Practice11.ipynb",
      "version": "0.3.2",
      "provenance": [],
      "include_colab_link": true
    },
    "kernelspec": {
      "name": "python3",
      "display_name": "Python 3"
    }
  },
  "cells": [
    {
      "cell_type": "markdown",
      "metadata": {
        "id": "view-in-github",
        "colab_type": "text"
      },
      "source": [
        "<a href=\"https://colab.research.google.com/github/nwilky/Python-Practice/blob/master/Practice11.ipynb\" target=\"_parent\"><img src=\"https://colab.research.google.com/assets/colab-badge.svg\" alt=\"Open In Colab\"/></a>"
      ]
    },
    {
      "metadata": {
        "id": "ko6ug-PSt_bQ",
        "colab_type": "code",
        "colab": {
          "base_uri": "https://localhost:8080/",
          "height": 63
        },
        "outputId": "42a3a21c-a19c-4cac-88e8-0656fd4877fa"
      },
      "cell_type": "code",
      "source": [
        "#Practice 11\n",
        "\n",
        "number = int(input(\"Please give me a number and I will give you all of its divisors:  \"))\n",
        "potential_divisors = range(2, number - 1)\n",
        "\n",
        "if number > 0:\n",
        "  for element in potential_divisors:\n",
        "    if number % element != 0:\n",
        "      print(\"This is a prime number!\")\n",
        "      break\n",
        "    elif number % element == 0:  \n",
        "      print(\"This is not a prime number.\")\n",
        "      break\n",
        "  \n",
        "    \n",
        "   \n",
        "    "
      ],
      "execution_count": 18,
      "outputs": [
        {
          "output_type": "stream",
          "text": [
            "Please give me a number and I will give you all of its divisors:  7\n",
            "This is a prime number!\n"
          ],
          "name": "stdout"
        }
      ]
    }
  ]
}