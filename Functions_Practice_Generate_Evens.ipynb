{
  "nbformat": 4,
  "nbformat_minor": 0,
  "metadata": {
    "colab": {
      "name": "Functions Practice - Generate Evens.ipynb",
      "version": "0.3.2",
      "provenance": [],
      "include_colab_link": true
    },
    "kernelspec": {
      "name": "python3",
      "display_name": "Python 3"
    }
  },
  "cells": [
    {
      "cell_type": "markdown",
      "metadata": {
        "id": "view-in-github",
        "colab_type": "text"
      },
      "source": [
        "<a href=\"https://colab.research.google.com/github/nwilky/Python-Practice/blob/master/Functions_Practice_Generate_Evens.ipynb\" target=\"_parent\"><img src=\"https://colab.research.google.com/assets/colab-badge.svg\" alt=\"Open In Colab\"/></a>"
      ]
    },
    {
      "metadata": {
        "id": "Ojv5AOgv9oxi",
        "colab_type": "code",
        "colab": {
          "base_uri": "https://localhost:8080/",
          "height": 51
        },
        "outputId": "a7814be0-75af-42cb-8d66-52c7a99f45a9"
      },
      "cell_type": "code",
      "source": [
        "def generate_evens():\n",
        "  evens = []\n",
        "  for x in range(1,50):\n",
        "    if x % 2 == 0:\n",
        "      evens.append(x)\n",
        "  return evens    \n",
        "  \n",
        "print(generate_evens())\n",
        "\n",
        "#Generating evens using a list comprehension:\n",
        "\n",
        "def generate_even():\n",
        "    return [x for x in range(1,50) if x%2 == 0]\n",
        "  \n",
        "print(generate_even())  "
      ],
      "execution_count": 10,
      "outputs": [
        {
          "output_type": "stream",
          "text": [
            "[2, 4, 6, 8, 10, 12, 14, 16, 18, 20, 22, 24, 26, 28, 30, 32, 34, 36, 38, 40, 42, 44, 46, 48]\n",
            "[2, 4, 6, 8, 10, 12, 14, 16, 18, 20, 22, 24, 26, 28, 30, 32, 34, 36, 38, 40, 42, 44, 46, 48]\n"
          ],
          "name": "stdout"
        }
      ]
    }
  ]
}