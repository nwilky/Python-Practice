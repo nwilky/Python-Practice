{
  "nbformat": 4,
  "nbformat_minor": 0,
  "metadata": {
    "colab": {
      "name": "Practice8.ipynb",
      "version": "0.3.2",
      "provenance": [],
      "collapsed_sections": [],
      "include_colab_link": true
    },
    "kernelspec": {
      "name": "python3",
      "display_name": "Python 3"
    }
  },
  "cells": [
    {
      "cell_type": "markdown",
      "metadata": {
        "id": "view-in-github",
        "colab_type": "text"
      },
      "source": [
        "<a href=\"https://colab.research.google.com/github/nwilky/Python-Practice/blob/master/Practice8.ipynb\" target=\"_parent\"><img src=\"https://colab.research.google.com/assets/colab-badge.svg\" alt=\"Open In Colab\"/></a>"
      ]
    },
    {
      "metadata": {
        "id": "leU2stV6iFnS",
        "colab_type": "code",
        "colab": {
          "base_uri": "https://localhost:8080/",
          "height": 714
        },
        "outputId": "3f29d177-03ec-48d2-bd4a-f88835618752"
      },
      "cell_type": "code",
      "source": [
        "#Practice8\n",
        "player1 = 0\n",
        "player2 = 0\n",
        "\n",
        "print(\"Let's play Rock, Paper, Scissors.  Type r, p, or s for your choice.\\n\"\n",
        "      \"The first player to 3 points wins.\")\n",
        "\n",
        "while (player1 <= 3) and (player2 <= 3):\n",
        "  print(\"\\nScore:\\n\"\n",
        "       \"Player 1: {}\\n\"\n",
        "       \"Player 2: {}\\n\".format(player1,player2))\n",
        "  player1_choice = input(\"Player 1: Make your choice.\")\n",
        "  player2_choice = input(\"Player 2: Make your choice.\")\n",
        "  \n",
        "  if player1_choice == player2_choice:\n",
        "    print(\"Ya'll tied, let's play again.\")\n",
        "  elif player1_choice == \"s\":\n",
        "    if player2_choice == \"p\":\n",
        "      print(\"\\nPlayer 1 got a point!!\")\n",
        "      player1 += 1\n",
        "    else:\n",
        "      print(\"\\nPlayer 2 got a point!!\")\n",
        "      player2 += 1\n",
        "      \n",
        "  elif player1_choice == \"p\":\n",
        "    if player2_choice == \"r\":\n",
        "      print(\"\\nPlayer 1 got a point!!\")\n",
        "      player1 += 1\n",
        "    else:\n",
        "      print(\"\\nPlayer 2 got a point!!\")\n",
        "      player2 += 1\n",
        "      \n",
        "  elif player1_choice == \"r\":\n",
        "    if player2_choice == \"s\":\n",
        "      print(\"\\nPlayer 1 got a point!!\")\n",
        "      player1 += 1\n",
        "    else:\n",
        "      print(\"\\nPlayer 2 got a point!!\")\n",
        "      player2 += 1\n",
        "    \n",
        "  if player1 == 3 or player2 == 3:\n",
        "    break\n",
        "    \n",
        "if player1 == 3:    \n",
        "  print(\"\\nCongratulations for winning Player 1\\n\"\n",
        "       \"Final score: Player 1 - {}, Player 2 - {}\".format(player1,player2))\n",
        "elif player2 == 3:\n",
        "  print(\"\\nCongratulations for winning Player 2\\n\"\n",
        "       \"Final score: Player 1 - {}, Player 2 - {}\".format(player1,player2))"
      ],
      "execution_count": 47,
      "outputs": [
        {
          "output_type": "stream",
          "text": [
            "Let's play Rock, Paper, Scissors.  Type r, p, or s for your choice.\n",
            "The first player to 3 points wins.\n",
            "\n",
            "Score:\n",
            "Player 1: 0\n",
            "Player 2: 0\n",
            "\n",
            "Player 1: Make your choice.r\n",
            "Player 2: Make your choice.s\n",
            "\n",
            "Player 1 got a point!!\n",
            "\n",
            "Score:\n",
            "Player 1: 1\n",
            "Player 2: 0\n",
            "\n",
            "Player 1: Make your choice.s\n",
            "Player 2: Make your choice.r\n",
            "\n",
            "Player 2 got a point!!\n",
            "\n",
            "Score:\n",
            "Player 1: 1\n",
            "Player 2: 1\n",
            "\n",
            "Player 1: Make your choice.s\n",
            "Player 2: Make your choice.r\n",
            "\n",
            "Player 2 got a point!!\n",
            "\n",
            "Score:\n",
            "Player 1: 1\n",
            "Player 2: 2\n",
            "\n",
            "Player 1: Make your choice.s\n",
            "Player 2: Make your choice.r\n",
            "\n",
            "Player 2 got a point!!\n",
            "\n",
            "Congratulations for winning Player 2\n",
            "Final score: Player 1 - 1, Player 2 - 3\n"
          ],
          "name": "stdout"
        }
      ]
    }
  ]
}