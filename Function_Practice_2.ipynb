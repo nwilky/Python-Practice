{
  "nbformat": 4,
  "nbformat_minor": 0,
  "metadata": {
    "colab": {
      "name": "Function Practice 2.ipynb",
      "version": "0.3.2",
      "provenance": [],
      "include_colab_link": true
    },
    "kernelspec": {
      "name": "python3",
      "display_name": "Python 3"
    }
  },
  "cells": [
    {
      "cell_type": "markdown",
      "metadata": {
        "id": "view-in-github",
        "colab_type": "text"
      },
      "source": [
        "<a href=\"https://colab.research.google.com/github/nwilky/Python-Practice/blob/master/Function_Practice_2.ipynb\" target=\"_parent\"><img src=\"https://colab.research.google.com/assets/colab-badge.svg\" alt=\"Open In Colab\"/></a>"
      ]
    },
    {
      "metadata": {
        "id": "xJ83y2yHZ5Am",
        "colab_type": "code",
        "colab": {
          "base_uri": "https://localhost:8080/",
          "height": 153
        },
        "outputId": "1808c0bd-6f96-4bfd-d9e8-c615f4e0b39d"
      },
      "cell_type": "code",
      "source": [
        "def multiple_letter_count(word):\n",
        "  print({k: word.count(k) for k in word})\n",
        "  \n",
        "multiple_letter_count(\"awesome\") \n",
        "\n",
        "\n",
        "def list_manipulation(arg, com, loc, val=None):\n",
        "    if com == \"remove\" and loc == \"end\":\n",
        "      return arg.pop()\n",
        "    elif com == \"remove\" and loc == \"beginning\":\n",
        "      return arg.pop(0)\n",
        "    elif com == \"add\" and loc == \"beginning\":\n",
        "      arg.insert(0,val)\n",
        "      return arg\n",
        "    elif com == \"add\" and loc == \"end\":\n",
        "      arg.append(val)\n",
        "      return arg\n",
        "\n",
        "print(list_manipulation([1,2,3], \"remove\", \"end\")) # 3\n",
        "print(list_manipulation([1,2,3], \"remove\", \"beginning\")) #  1\n",
        "print(list_manipulation([1,2,3], \"add\", \"beginning\", 20)) #  [20,1,2,3]\n",
        "print(list_manipulation([1,2,3], \"add\", \"end\", 30)) #  [1,2,3,30]    \n",
        "\n",
        "\n",
        "\n",
        "def is_palindrome(word):\n",
        "  back = word[::-1].lower().replace(\" \", \"\")\n",
        "  if word.lower().replace(\" \", \"\") == back:\n",
        "    return True\n",
        "  return False\n",
        "\n",
        "print(is_palindrome(\"Tacocat\"))\n",
        "print(is_palindrome(\"coUch\"))\n",
        "print(is_palindrome('a man a plan a canal Panama'))\n",
        "    \n",
        "    \n"
      ],
      "execution_count": 30,
      "outputs": [
        {
          "output_type": "stream",
          "text": [
            "{'a': 1, 'w': 1, 'e': 2, 's': 1, 'o': 1, 'm': 1}\n",
            "3\n",
            "1\n",
            "[20, 1, 2, 3]\n",
            "[1, 2, 3, 30]\n",
            "True\n",
            "False\n",
            "True\n"
          ],
          "name": "stdout"
        }
      ]
    },
    {
      "metadata": {
        "id": "tnaK50k2g4L-",
        "colab_type": "code",
        "colab": {
          "base_uri": "https://localhost:8080/",
          "height": 102
        },
        "outputId": "c84fdeb4-c86b-43ea-d26a-6973fb5dfcb2"
      },
      "cell_type": "code",
      "source": [
        "def frequency(l, term):\n",
        "  return l.count(term)\n",
        "  \n",
        "print(frequency([1,2,3,4,4,4], 4))\n",
        "\n",
        "\n",
        "def multiply_even_numbers(arg):\n",
        "  total = 1\n",
        "  for num in arg:\n",
        "    if num % 2 == 0:\n",
        "      total *= num\n",
        "  return total\n",
        "  \n",
        "print(multiply_even_numbers([1,2,3,4,5,6]))  \n",
        "\n",
        "\n",
        "#Using slices\n",
        "def capitalize(word):\n",
        "    return word[:1].upper() + word[1:]\n",
        "  \n",
        "print(capitalize(\"matt\"))  \n",
        "\n",
        "\n",
        "def compact(l):\n",
        "  newlist = []\n",
        "  for element in l:\n",
        "    if element:\n",
        "      newlist.append(element)\n",
        "  return newlist\n",
        "\n",
        "def compact_better(l):\n",
        "  return [val for val in l if val]\n",
        "  \n",
        "print(compact([0,1,2,\"\",[], False, {}, None, \"All done\"]))\n",
        "print(compact_better([0,1,2,\"\",[], False, {}, None, \"All done\"]))\n",
        "        "
      ],
      "execution_count": 90,
      "outputs": [
        {
          "output_type": "stream",
          "text": [
            "3\n",
            "48\n",
            "Matt\n",
            "[1, 2, 'All done']\n",
            "[1, 2, 'All done']\n"
          ],
          "name": "stdout"
        }
      ]
    },
    {
      "metadata": {
        "id": "Xh3DkND5nDgB",
        "colab_type": "code",
        "colab": {
          "base_uri": "https://localhost:8080/",
          "height": 68
        },
        "outputId": "6c06b188-76cc-4e77-de4a-f2feae597097"
      },
      "cell_type": "code",
      "source": [
        "def intersection(arg1, arg2):\n",
        "  return [x for x in arg1 if x in arg2]\n",
        "\n",
        "print(intersection([1,2,3], [2,3,4]))\n",
        "print(intersection(['a','b','c','d'], ['d','e','f','g']))\n",
        "\n",
        "\n",
        "def isEven(num):\n",
        "  return num % 2 == 0\n",
        "\n",
        "\n",
        "def partition(arg, fn):\n",
        "  tlist = []\n",
        "  flist = []\n",
        "  for element in arg:\n",
        "    if fn(element):\n",
        "      tlist.append(element)\n",
        "    else:\n",
        "      flist.append(element)\n",
        "  return [tlist, flist]\n",
        "  \n",
        "  \n",
        "print(partition([1,2,3,4], isEven))  \n",
        "      "
      ],
      "execution_count": 101,
      "outputs": [
        {
          "output_type": "stream",
          "text": [
            "[2, 3]\n",
            "['d']\n",
            "[[2, 4], [1, 3]]\n"
          ],
          "name": "stdout"
        }
      ]
    }
  ]
}