{
  "nbformat": 4,
  "nbformat_minor": 0,
  "metadata": {
    "colab": {
      "name": "RPG Exercise.ipynb",
      "version": "0.3.2",
      "provenance": [],
      "include_colab_link": true
    },
    "kernelspec": {
      "name": "python3",
      "display_name": "Python 3"
    }
  },
  "cells": [
    {
      "cell_type": "markdown",
      "metadata": {
        "id": "view-in-github",
        "colab_type": "text"
      },
      "source": [
        "<a href=\"https://colab.research.google.com/github/nwilky/Python-Practice/blob/master/RPG_Exercise.ipynb\" target=\"_parent\"><img src=\"https://colab.research.google.com/assets/colab-badge.svg\" alt=\"Open In Colab\"/></a>"
      ]
    },
    {
      "metadata": {
        "id": "AKUxvFUq87CZ",
        "colab_type": "code",
        "colab": {
          "base_uri": "https://localhost:8080/",
          "height": 510
        },
        "outputId": "1acaffc7-a667-4e2b-a2d8-c8d861bca879"
      },
      "cell_type": "code",
      "source": [
        "class Character:\n",
        "  def __init__(self, name, hp, level):\n",
        "    self.name = name\n",
        "    self.hp = hp\n",
        "    self.level = level\n",
        "    \n",
        "class NPC(Character):\n",
        "  def __init__(self, name, hp, level, mp):\n",
        "    super().__init__(name, hp, level)\n",
        "    self.mp = mp\n",
        "  \n",
        "  def speak(self):\n",
        "    return \"My name is {}, I heard there is a sword in the cave!\".format(self.name)\n",
        "  \n",
        "villager = NPC(\"Bob\", 100, 5, 50)\n",
        "print(villager.name)\n",
        "print(villager.hp)\n",
        "print(villager.mp)\n",
        "print(villager.level)\n",
        "print(villager.speak())\n",
        "help(NPC)\n"
      ],
      "execution_count": 10,
      "outputs": [
        {
          "output_type": "stream",
          "text": [
            "Bob\n",
            "100\n",
            "50\n",
            "5\n",
            "My name is Bob, I heard there is a sword in the cave!\n",
            "Help on class NPC in module __main__:\n",
            "\n",
            "class NPC(Character)\n",
            " |  Method resolution order:\n",
            " |      NPC\n",
            " |      Character\n",
            " |      builtins.object\n",
            " |  \n",
            " |  Methods defined here:\n",
            " |  \n",
            " |  __init__(self, name, hp, level, mp)\n",
            " |      Initialize self.  See help(type(self)) for accurate signature.\n",
            " |  \n",
            " |  speak(self)\n",
            " |  \n",
            " |  ----------------------------------------------------------------------\n",
            " |  Data descriptors inherited from Character:\n",
            " |  \n",
            " |  __dict__\n",
            " |      dictionary for instance variables (if defined)\n",
            " |  \n",
            " |  __weakref__\n",
            " |      list of weak references to the object (if defined)\n",
            "\n"
          ],
          "name": "stdout"
        }
      ]
    }
  ]
}