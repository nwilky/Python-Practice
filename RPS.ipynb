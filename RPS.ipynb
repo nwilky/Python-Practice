{
  "nbformat": 4,
  "nbformat_minor": 0,
  "metadata": {
    "colab": {
      "name": "RPS.ipynb",
      "version": "0.3.2",
      "provenance": [],
      "include_colab_link": true
    },
    "kernelspec": {
      "name": "python3",
      "display_name": "Python 3"
    }
  },
  "cells": [
    {
      "cell_type": "markdown",
      "metadata": {
        "id": "view-in-github",
        "colab_type": "text"
      },
      "source": [
        "<a href=\"https://colab.research.google.com/github/nwilky/Python-Practice/blob/master/RPS.ipynb\" target=\"_parent\"><img src=\"https://colab.research.google.com/assets/colab-badge.svg\" alt=\"Open In Colab\"/></a>"
      ]
    },
    {
      "metadata": {
        "id": "PgV-Z7XieREm",
        "colab_type": "code",
        "colab": {
          "base_uri": "https://localhost:8080/",
          "height": 119
        },
        "outputId": "3b6172b6-e081-4ffe-fcad-dfadbc22a832"
      },
      "cell_type": "code",
      "source": [
        "import random\n",
        "\n",
        "print(\"Let's play rock, paper, scissors!\\n\"\n",
        "      \"Just type rock paper or scissors for your choice\\n\")\n",
        "\n",
        "p1 = input(\"Player 1 make your choice: \")\n",
        "#p2 = input(\"Player 2 make your choice: \")\n",
        "p2 = random.choice([\"rock\", \"paper\", \"scissors\"])\n",
        "print(\"The computer chose {}\".format(p2))\n",
        "\n",
        "if p1 == \"rock\" and p2 == \"scissors\":\n",
        "  print(\"Player 1 wins!!\")\n",
        "elif p1 == \"paper\" and p2 == \"rock\":\n",
        "  print(\"Player 1 wins!!\")\n",
        "elif p1 == \"scissors\" and p2 == \"paper\":\n",
        "  print(\"Player 1 wins!!\")\n",
        "elif p1 == p2:\n",
        "  print(\"Tie game!\")\n",
        "else:\n",
        "  print(\"The computer won.\")\n",
        "\n"
      ],
      "execution_count": 16,
      "outputs": [
        {
          "output_type": "stream",
          "text": [
            "Let's play rock, paper, scissors!\n",
            "Just type rock paper or scissors for your choice\n",
            "\n",
            "Player 1 make your choice: paper\n",
            "The computer chose scissors\n",
            "The computer won.\n"
          ],
          "name": "stdout"
        }
      ]
    }
  ]
}