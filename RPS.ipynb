{
  "nbformat": 4,
  "nbformat_minor": 0,
  "metadata": {
    "colab": {
      "name": "RPS.ipynb",
      "version": "0.3.2",
      "provenance": [],
      "include_colab_link": true
    },
    "kernelspec": {
      "name": "python3",
      "display_name": "Python 3"
    }
  },
  "cells": [
    {
      "cell_type": "markdown",
      "metadata": {
        "id": "view-in-github",
        "colab_type": "text"
      },
      "source": [
        "<a href=\"https://colab.research.google.com/github/nwilky/Python-Practice/blob/master/RPS.ipynb\" target=\"_parent\"><img src=\"https://colab.research.google.com/assets/colab-badge.svg\" alt=\"Open In Colab\"/></a>"
      ]
    },
    {
      "metadata": {
        "id": "PgV-Z7XieREm",
        "colab_type": "code",
        "outputId": "2ac5d6a4-9dbe-4661-99f0-a16bfa7b4e64",
        "colab": {
          "base_uri": "https://localhost:8080/",
          "height": 561
        }
      },
      "cell_type": "code",
      "source": [
        "import random\n",
        "\n",
        "print(\"Let's play rock, paper, scissors!\\n\"\n",
        "      \"Just type 'rock' 'paper' or 'scissors' for your choice.  Type 'q' to quit.\\n\")\n",
        "\n",
        "p1score = 0\n",
        "p2score = 0\n",
        "winning_score = 2\n",
        "\n",
        "while p1score < winning_score and p2score < winning_score:\n",
        "  print(\"The current score is:\\n\"\n",
        "       \"Player 1: {}\\n\"\n",
        "       \"Computer: {}\\n\".format(p1score,p2score))\n",
        "  p1 = input(\"Player 1 make your choice: \")\n",
        "  if p1 == \"q\":\n",
        "    break\n",
        "  #p2 = input(\"Player 2 make your choice: \")\n",
        "  p2 = random.choice([\"rock\", \"paper\", \"scissors\"])\n",
        "  print(\"The computer chose {}\".format(p2))\n",
        "\n",
        "  if p1 == \"rock\" and p2 == \"scissors\":\n",
        "    print(\"Player 1 wins the round!!\\n\")\n",
        "    p1score += 1\n",
        "  elif p1 == \"paper\" and p2 == \"rock\":\n",
        "    print(\"Player 1 wins the round!!\\n\")\n",
        "    p1score += 1\n",
        "  elif p1 == \"scissors\" and p2 == \"paper\":\n",
        "    print(\"Player 1 wins the round!!\\n\")\n",
        "    p1score += 1\n",
        "  elif p1 == p2:\n",
        "    print(\"Tie round!!\\n\")\n",
        "  else:\n",
        "    print(\"The computer wins the round!! :( \\n\")\n",
        "    p2score += 1\n",
        "    \n",
        "if p1score > p2score:\n",
        "  print(\"The final score is:\\n\"\n",
        "       \"Player 1: {}\\n\"\n",
        "       \"Computer: {}\\n\".format(p1score,p2score))\n",
        "  print(\"Player 1 wins the whole game!!\")\n",
        "elif p1score == p2score:\n",
        "  print(\"The final score is:\\n\"\n",
        "       \"Player 1: {}\\n\"\n",
        "       \"Computer: {}\\n\".format(p1score,p2score))\n",
        "  print(\"The whole game is a tie!!\")\n",
        "else:\n",
        "  print(\"The final score is:\\n\"\n",
        "       \"Player 1: {}\\n\"\n",
        "       \"Computer: {}\\n\".format(p1score,p2score))\n",
        "  print(\"The computer wins the whole game!! :( \")\n",
        "\n",
        "\n",
        "\n",
        "    \n",
        "  \n"
      ],
      "execution_count": 30,
      "outputs": [
        {
          "output_type": "stream",
          "text": [
            "Let's play rock, paper, scissors!\n",
            "Just type 'rock' 'paper' or 'scissors' for your choice.  Type 'q' to quit.\n",
            "\n",
            "The current score is:\n",
            "Player 1: 0\n",
            "Computer: 0\n",
            "\n",
            "Player 1 make your choice: paper\n",
            "The computer chose scissors\n",
            "The computer wins the round!! :( \n",
            "\n",
            "The current score is:\n",
            "Player 1: 0\n",
            "Computer: 1\n",
            "\n",
            "Player 1 make your choice: paper\n",
            "The computer chose paper\n",
            "Tie round!!\n",
            "\n",
            "The current score is:\n",
            "Player 1: 0\n",
            "Computer: 1\n",
            "\n",
            "Player 1 make your choice: paper\n",
            "The computer chose scissors\n",
            "The computer wins the round!! :( \n",
            "\n",
            "The final score is:\n",
            "Player 1: 0\n",
            "Computer: 2\n",
            "\n",
            "The computer wins the whole game!! :( \n"
          ],
          "name": "stdout"
        }
      ]
    }
  ]
}